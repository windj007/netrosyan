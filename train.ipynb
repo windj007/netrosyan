{
 "cells": [
  {
   "cell_type": "markdown",
   "metadata": {},
   "source": [
    "# Train language model"
   ]
  },
  {
   "cell_type": "code",
   "execution_count": 57,
   "metadata": {
    "collapsed": false
   },
   "outputs": [],
   "source": [
    "import itertools, numpy\n",
    "\n",
    "import keras\n",
    "from keras.models import Model\n",
    "from keras.layers import Embedding, TimeDistributed, Dense, Input, LSTM, Dropout"
   ]
  },
  {
   "cell_type": "markdown",
   "metadata": {},
   "source": [
    "## Prepare training data"
   ]
  },
  {
   "cell_type": "code",
   "execution_count": 8,
   "metadata": {
    "collapsed": true
   },
   "outputs": [],
   "source": [
    "with open('./data/joint.txt', 'r') as f:\n",
    "    dataset = [line.strip().decode('utf8') for line in f if line.strip()]"
   ]
  },
  {
   "cell_type": "code",
   "execution_count": 9,
   "metadata": {
    "collapsed": false
   },
   "outputs": [
    {
     "data": {
      "text/plain": [
       "14881"
      ]
     },
     "execution_count": 9,
     "metadata": {},
     "output_type": "execute_result"
    }
   ],
   "source": [
    "len(dataset)"
   ]
  },
  {
   "cell_type": "code",
   "execution_count": 67,
   "metadata": {
    "collapsed": false
   },
   "outputs": [],
   "source": [
    "START_CHAR = 0\n",
    "END_CHAR = 1\n",
    "REAL_CHAR_OFFSET = 2\n",
    "DEFAULT_MAXLEN = 100\n",
    "\n",
    "def make_training_data(samples, maxlen = DEFAULT_MAXLEN, stride = 50):\n",
    "    char2code = { c : i + REAL_CHAR_OFFSET\n",
    "                 for i, c\n",
    "                 in enumerate(sorted(set(''.join(samples)))) }\n",
    "    chars_number = len(char2code) + REAL_CHAR_OFFSET\n",
    "\n",
    "    inputs = []\n",
    "    outputs = []\n",
    "    for sample in samples:\n",
    "        converted = [START_CHAR] + map(char2code.__getitem__, sample) + [END_CHAR]\n",
    "        for start in xrange(0, len(converted) - stride / 2, stride):\n",
    "            in_chunk = converted[start : start + maxlen]\n",
    "            out_chunk = converted[start + 1 : start + maxlen + 1]\n",
    "\n",
    "            in_res = numpy.ones(maxlen, dtype = 'uint16') * END_CHAR\n",
    "            in_res[:len(in_chunk)] = in_chunk\n",
    "            \n",
    "            out_res = numpy.zeros((maxlen, chars_number), dtype = 'uint16')\n",
    "            out_res[:len(out_chunk), out_chunk] = 1\n",
    "            out_res[len(out_chunk):, END_CHAR] = 1\n",
    "\n",
    "            inputs.append(in_res)\n",
    "            outputs.append(out_res)\n",
    "    \n",
    "    code2char = { i : c for c, i in char2code.viewitems() }\n",
    "    code2char[START_CHAR] = '_START_'\n",
    "    code2char[END_CHAR] = '_END_'\n",
    "    def _decoder(line):\n",
    "        return ''.join(map(code2char.__getitem__, line))\n",
    "\n",
    "    return numpy.vstack(inputs), numpy.stack(outputs), len(code2char), _decoder"
   ]
  },
  {
   "cell_type": "code",
   "execution_count": 68,
   "metadata": {
    "collapsed": false
   },
   "outputs": [],
   "source": [
    "x, y, chars_number, decoder = make_training_data(dataset[:10])"
   ]
  },
  {
   "cell_type": "code",
   "execution_count": 69,
   "metadata": {
    "collapsed": false
   },
   "outputs": [
    {
     "data": {
      "text/plain": [
       "((56, 100), (56, 100, 75), 75)"
      ]
     },
     "execution_count": 69,
     "metadata": {},
     "output_type": "execute_result"
    }
   ],
   "source": [
    "(x.shape, y.shape, chars_number)"
   ]
  },
  {
   "cell_type": "markdown",
   "metadata": {},
   "source": [
    "## Basic Char-RNN"
   ]
  },
  {
   "cell_type": "code",
   "execution_count": null,
   "metadata": {
    "collapsed": true
   },
   "outputs": [],
   "source": [
    "crnn_input = Input((DEFAULT_MAXLEN,), dtype = 'uint16')\n",
    "crnn_embeddings = Embedding(DEFAULT_MAXLEN, 32)(crnn_input)\n",
    "crnn_lstm1 = LSTM(256, return_sequences = True)(crnn_embeddings)\n",
    "crnn_do1 = Dropout(0.2)(crnn_lstm1)\n",
    "crnn_lstm2 = LSTM(256, return_sequences = True)(crnn_do1)\n",
    "crnn_do2 = Dropout(0.2)(crnn_lstm2)\n",
    "crnn_dense = TimeDistributed(Dense(chars_number))\n",
    "crnn_output = Activation('softmax')\n",
    "\n",
    "crnn = Model(input = [crnn_input], output = [crnn_output])\n",
    "crnn.compile(loss='categorical_crossentropy', optimizer='rmsprop')"
   ]
  },
  {
   "cell_type": "code",
   "execution_count": 58,
   "metadata": {
    "collapsed": false
   },
   "outputs": [],
   "source": [
    "LSTM??"
   ]
  }
 ],
 "metadata": {
  "kernelspec": {
   "display_name": "Python 2",
   "language": "python",
   "name": "python2"
  },
  "language_info": {
   "codemirror_mode": {
    "name": "ipython",
    "version": 2
   },
   "file_extension": ".py",
   "mimetype": "text/x-python",
   "name": "python",
   "nbconvert_exporter": "python",
   "pygments_lexer": "ipython2",
   "version": "2.7.6"
  }
 },
 "nbformat": 4,
 "nbformat_minor": 1
}
